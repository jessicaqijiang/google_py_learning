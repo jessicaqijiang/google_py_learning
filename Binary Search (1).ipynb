{
 "cells": [
  {
   "cell_type": "code",
   "execution_count": 2,
   "metadata": {},
   "outputs": [
    {
     "name": "stdout",
     "output_type": "stream",
     "text": [
      "2022-01-17\n",
      "2022-01-01\n",
      "2024-02-29\n"
     ]
    }
   ],
   "source": [
    "import datetime\n",
    "from datetime import date\n",
    "\n",
    "def add_year(date_obj):\n",
    "  try:\n",
    "    new_date_obj = date_obj.replace(year = date_obj.year + 1)\n",
    "  except ValueError:\n",
    "    # This gets executed when the above method fails, \n",
    "    # which means that we're making a Leap Year calculation\n",
    "    new_date_obj = date_obj.replace(year = date_obj.year + 4)\n",
    "  return new_date_obj\n",
    "\n",
    "def next_date(date_string):\n",
    "  # Convert the argument from string to date object\n",
    "  date_obj = datetime.datetime.strptime(date_string, r\"%Y-%m-%d\")\n",
    "  next_date_obj = add_year(date_obj)\n",
    "\n",
    "  # Convert the datetime object to string, \n",
    "  # in the format of \"yyyy-mm-dd\"\n",
    "  next_date_string = next_date_obj.strftime(\"%Y-%m-%d\")\n",
    "  return next_date_string\n",
    "\n",
    "today = date.today()  # Get today's date\n",
    "print(next_date(str(today))) \n",
    "# Should return a year from today, unless today is Leap Day\n",
    "\n",
    "print(next_date(\"2021-01-01\")) # Should return 2022-01-01\n",
    "print(next_date(\"2020-02-29\")) # Should return 2024-02-29"
   ]
  },
  {
   "cell_type": "code",
   "execution_count": 1,
   "metadata": {},
   "outputs": [],
   "source": [
    "##Use Binary Search to find items\n",
    "\n",
    "def find_item(list, item):\n",
    "  #Returns True if the item is in the list, False if not.\n",
    "  list.sort()\n",
    "  if len(list) == 0:\n",
    "    return False\n",
    "\n",
    "  #Is the item in the center of the list?\n",
    "  middle = len(list)//2\n",
    "  if list[middle] == item:\n",
    "    return True\n",
    "\n",
    "  #Is the item in the first half of the list? \n",
    "  if item < list[middle]:\n",
    "    #Call the function with the first half of the list\n",
    "    return find_item(list[:middle], item)\n",
    "  else:\n",
    "    #Call the function with the second half of the list\n",
    "    return find_item(list[middle+1:], item)\n",
    "\n",
    "  return False\n",
    "\n",
    "\n"
   ]
  },
  {
   "cell_type": "code",
   "execution_count": 2,
   "metadata": {},
   "outputs": [],
   "source": [
    "#Do not edit below this line - This code helps check your work!\n",
    "list_of_names = [\"Parker\", \"Drew\", \"Cameron\", \"Logan\", \"Alex\", \"Chris\", \"Terry\", \"Jamie\", \"Jordan\", \"Taylor\"]"
   ]
  },
  {
   "cell_type": "code",
   "execution_count": 3,
   "metadata": {},
   "outputs": [
    {
     "name": "stdout",
     "output_type": "stream",
     "text": [
      "True\n",
      "False\n",
      "True\n",
      "False\n"
     ]
    }
   ],
   "source": [
    "\n",
    "print(find_item(list_of_names, \"Alex\")) # True\n",
    "print(find_item(list_of_names, \"Andrew\")) # False\n",
    "print(find_item(list_of_names, \"Drew\")) # True\n",
    "print(find_item(list_of_names, \"Jared\")) # False"
   ]
  },
  {
   "cell_type": "code",
   "execution_count": 7,
   "metadata": {},
   "outputs": [],
   "source": [
    "#Linear Search vs Binary Search \n",
    "\n",
    "def linear_search(list, key):\n",
    "    #Returns the number of steps to determine if key is in the list \n",
    "\n",
    "    #Initialize the counter of steps\n",
    "    steps=0\n",
    "    for i, item in enumerate(list):\n",
    "        steps += 1\n",
    "        if item == key:\n",
    "            break\n",
    "    return steps\n",
    "\n",
    "def binary_search(list, key):\n",
    "    #Returns the number of steps to determine if key is in the list \n",
    "\n",
    "    #List must be sorted:\n",
    "    list.sort()\n",
    "\n",
    "    #The Sort was 1 step, so initialize the counter of steps to 1\n",
    "    steps=1\n",
    "\n",
    "    left = 0\n",
    "    right = len(list) - 1\n",
    "    while left <= right:\n",
    "        steps += 1\n",
    "        middle = (left + right) // 2\n",
    "        \n",
    "        if list[middle] == key:\n",
    "            break\n",
    "        if list[middle] > key:\n",
    "            right = middle - 1\n",
    "        if list[middle] < key:\n",
    "            left = middle + 1\n",
    "    return steps\n",
    "\n",
    "def best_search(list, key):\n",
    "    steps_linear = linear_search(list,key)\n",
    "    steps_binary = binary_search(list, key)\n",
    "    results = \"Linear: \" + str(steps_linear) + \" steps, \"\n",
    "    results += \"Binary: \" + str(steps_binary) + \" steps. \"\n",
    "    if (str(steps_linear) < str(steps_binary)):\n",
    "        results += \"Best Search is Linear.\"\n",
    "    elif (str(steps_linear) > str(steps_binary)):\n",
    "        results += \"Best Search is Binary.\"\n",
    "    else:\n",
    "        results += \"Result is a Tie.\"\n",
    "\n",
    "    return results\n"
   ]
  },
  {
   "cell_type": "code",
   "execution_count": 8,
   "metadata": {},
   "outputs": [
    {
     "name": "stdout",
     "output_type": "stream",
     "text": [
      "Linear: 1 steps, Binary: 4 steps. Best Search is Linear.\n",
      "Linear: 4 steps, Binary: 4 steps. Result is a Tie.\n",
      "Linear: 4 steps, Binary: 5 steps. Best Search is Linear.\n",
      "Linear: 6 steps, Binary: 5 steps. Best Search is Binary.\n",
      "Linear: 10 steps, Binary: 5 steps. Best Search is Linear.\n"
     ]
    }
   ],
   "source": [
    "print(best_search([1, 2, 3, 4, 5, 6, 7, 8, 9, 10], 1))\n",
    "#Should be: Linear: 1 steps, Binary: 4 steps. Best Search is Linear.\n",
    "\n",
    "print(best_search([10, 2, 9, 1, 7, 5, 3, 4, 6, 8], 1))\n",
    "#Should be: Linear: 4 steps, Binary: 4 steps. Result is a Tie.\n",
    "\n",
    "print(best_search([10, 9, 8, 7, 6, 5, 4, 3, 2, 1], 7))\n",
    "#Should be: Linear: 4 steps, Binary: 5 steps. Best Search is Linear.\n",
    "\n",
    "print(best_search([1, 3, 5, 7, 9, 10, 2, 4, 6, 8], 10))\n",
    "#Should be: Linear: 6 steps, Binary: 5 steps. Best Search is Binary.\n",
    "\n",
    "print(best_search([5, 1, 8, 2, 4, 10, 7, 6, 3, 9], 11))\n",
    "#Should be: Linear: 10 steps, Binary: 5 steps. Best Search is Binary."
   ]
  }
 ],
 "metadata": {
  "kernelspec": {
   "display_name": "Python 3",
   "language": "python",
   "name": "python3"
  },
  "language_info": {
   "codemirror_mode": {
    "name": "ipython",
    "version": 3
   },
   "file_extension": ".py",
   "mimetype": "text/x-python",
   "name": "python",
   "nbconvert_exporter": "python",
   "pygments_lexer": "ipython3",
   "version": "3.7.4"
  }
 },
 "nbformat": 4,
 "nbformat_minor": 2
}
