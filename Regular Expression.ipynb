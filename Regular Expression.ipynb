{
 "cells": [
  {
   "cell_type": "code",
   "execution_count": 1,
   "metadata": {},
   "outputs": [],
   "source": [
    "import re"
   ]
  },
  {
   "cell_type": "markdown",
   "metadata": {},
   "source": [
    "r\" \" -> r means Raw String"
   ]
  },
  {
   "cell_type": "markdown",
   "metadata": {},
   "source": [
    "#### Q1 The repeating_letter_a function checks if the text passed includes the letter \"a\" (lowercase or uppercase) at least twice. For example, repeating_letter_a(\"banana\") is True, while repeating_letter_a(\"pineapple\") is False. Fill in the code to make this work."
   ]
  },
  {
   "cell_type": "code",
   "execution_count": 2,
   "metadata": {},
   "outputs": [],
   "source": [
    "def repeating_letter_a(text):\n",
    "    result = re.search(r\"[Aa].*[aA]\",text)\n",
    "    return result != None"
   ]
  },
  {
   "cell_type": "markdown",
   "metadata": {},
   "source": [
    "Test"
   ]
  },
  {
   "cell_type": "code",
   "execution_count": 3,
   "metadata": {},
   "outputs": [
    {
     "name": "stdout",
     "output_type": "stream",
     "text": [
      "True\n",
      "False\n",
      "True\n",
      "True\n"
     ]
    }
   ],
   "source": [
    "print(repeating_letter_a(\"banana\"))\n",
    "print(repeating_letter_a(\"pineapple\"))\n",
    "print(repeating_letter_a(\"Animal Kingdom\"))\n",
    "print(repeating_letter_a(\"A is for apple\"))"
   ]
  },
  {
   "cell_type": "markdown",
   "metadata": {},
   "source": [
    "#### Q2 Fill in the code to check if the text passed contains punctuation symbols: commas, periods, colons, semicolons, question marks, and exclamation points."
   ]
  },
  {
   "cell_type": "code",
   "execution_count": 4,
   "metadata": {},
   "outputs": [],
   "source": [
    "def check_punctuation (text):\n",
    "    result = re.search(r\"[,.:;?!]\", text)\n",
    "    return result != None"
   ]
  },
  {
   "cell_type": "code",
   "execution_count": 5,
   "metadata": {},
   "outputs": [
    {
     "name": "stdout",
     "output_type": "stream",
     "text": [
      "True\n",
      "False\n",
      "True\n",
      "True\n",
      "False\n"
     ]
    }
   ],
   "source": [
    "print(check_punctuation(\"This is a sentence that ends with a period.\")) \n",
    "print(check_punctuation(\"This is a sentence fragment without a period\")) \n",
    "print(check_punctuation(\"Aren't regular expressions awesome?\"))\n",
    "print(check_punctuation(\"Wow! We're really picking up some steam now!\")) \n",
    "print(check_punctuation(\"End of the line\")) "
   ]
  },
  {
   "cell_type": "markdown",
   "metadata": {},
   "source": [
    "\".\" dot match any character, \"\\n\" for create new line, \"\\t\" fot tab, \"\\w\" matches any alphanumeric (letters,numbers,and underscores)"
   ]
  },
  {
   "cell_type": "code",
   "execution_count": 6,
   "metadata": {},
   "outputs": [
    {
     "name": "stdout",
     "output_type": "stream",
     "text": [
      "<re.Match object; span=(0, 4), match='This'>\n"
     ]
    }
   ],
   "source": [
    "print(re.search(r\"\\w*\", \"This is an exmaple\"))"
   ]
  },
  {
   "cell_type": "markdown",
   "metadata": {},
   "source": [
    "Space are not part of the set of characters"
   ]
  },
  {
   "cell_type": "code",
   "execution_count": 7,
   "metadata": {},
   "outputs": [
    {
     "name": "stdout",
     "output_type": "stream",
     "text": [
      "<re.Match object; span=(0, 18), match='This_is_an_example'>\n"
     ]
    }
   ],
   "source": [
    "print(re.search(r\"\\w*\", \"This_is_an_example\"))"
   ]
  },
  {
   "cell_type": "markdown",
   "metadata": {},
   "source": [
    "\"\\d\" match digits, and \"\\s\" match whitespace characters like space, tab, or new line"
   ]
  },
  {
   "cell_type": "markdown",
   "metadata": {},
   "source": [
    "#### Q4 Fill in the code to check if the text passed has at least 2 groups of alphanumeric characters (including letters, numbers, and underscores) separated by one or more whitespace characters."
   ]
  },
  {
   "cell_type": "code",
   "execution_count": 8,
   "metadata": {},
   "outputs": [],
   "source": [
    "def check_character_groups(text):\n",
    "    result = re.search(r\"\\w+\\s+\\w\", text)\n",
    "    return result != None"
   ]
  },
  {
   "cell_type": "code",
   "execution_count": 9,
   "metadata": {},
   "outputs": [
    {
     "name": "stdout",
     "output_type": "stream",
     "text": [
      "False\n",
      "True\n",
      "True\n",
      "False\n"
     ]
    }
   ],
   "source": [
    "print(check_character_groups(\"One\")) \n",
    "print(check_character_groups(\"123  Ready Set GO\")) \n",
    "print(check_character_groups(\"username user_01\"))  \n",
    "print(check_character_groups(\"shopping_list: milk, bread, eggs.\"))"
   ]
  },
  {
   "cell_type": "markdown",
   "metadata": {},
   "source": [
    "#### Q5 Fill in the code to check if the text passed looks like a standard sentence, meaning that it starts with an uppercase letter, followed by at least some lowercase letters or a space, and ends with a period, question mark, or exclamation point."
   ]
  },
  {
   "cell_type": "code",
   "execution_count": 10,
   "metadata": {},
   "outputs": [],
   "source": [
    "def check_sentence(text):\n",
    "    result = re.search(r\"[A-Z][a-z ].*[.?!]\", text)\n",
    "    return result != None"
   ]
  },
  {
   "cell_type": "code",
   "execution_count": 11,
   "metadata": {},
   "outputs": [
    {
     "name": "stdout",
     "output_type": "stream",
     "text": [
      "True\n",
      "False\n",
      "False\n",
      "False\n",
      "True\n"
     ]
    }
   ],
   "source": [
    "print(check_sentence(\"Is this is a sentence?\")) \n",
    "print(check_sentence(\"is this is a sentence?\")) \n",
    "print(check_sentence(\"Hello\")) \n",
    "print(check_sentence(\"1-2-3-GO!\")) \n",
    "print(check_sentence(\"A star is born.\")) "
   ]
  },
  {
   "cell_type": "markdown",
   "metadata": {},
   "source": [
    "^(Caret.) Matches the start of the string, and in MULTILINE mode also matches immediately after each newline."
   ]
  },
  {
   "cell_type": "markdown",
   "metadata": {},
   "source": [
    "#### Q6 The check_web_address function checks if the text passed qualifies as a top-level web address, meaning that it contains alphanumeric characters (which includes letters, numbers, and underscores), as well as periods, dashes, and a plus sign, followed by a period and a character-only top-level domain such as \".com\", \".info\", \".edu\", etc. Fill in the regular expression to do that, using escape characters, wildcards, repetition qualifiers, beginning and end-of-line characters, and character classes."
   ]
  },
  {
   "cell_type": "code",
   "execution_count": 12,
   "metadata": {},
   "outputs": [],
   "source": [
    "def check_web_address(text):\n",
    "    pattern = r\"\\w+\\.[a-zA-Z]+$\"\n",
    "    result = re.search(pattern, text)\n",
    "    return result != None"
   ]
  },
  {
   "cell_type": "code",
   "execution_count": 13,
   "metadata": {},
   "outputs": [
    {
     "name": "stdout",
     "output_type": "stream",
     "text": [
      "True\n",
      "False\n",
      "True\n",
      "False\n",
      "True\n"
     ]
    }
   ],
   "source": [
    "print(check_web_address(\"gmail.com\")) # True\n",
    "print(check_web_address(\"www@google\")) # False\n",
    "print(check_web_address(\"www.Coursera.org\")) # True\n",
    "print(check_web_address(\"web-address.com/homepage\")) # False\n",
    "print(check_web_address(\"My_Favorite-Blog.US\")) # True"
   ]
  },
  {
   "cell_type": "markdown",
   "metadata": {},
   "source": [
    "#### Q7 The check_time function checks for the time format of a 12-hour clock, as follows: the hour is between 1 and 12, with no leading zero, followed by a colon, then minutes between 00 and 59, then an optional space, and then AM or PM, in upper or lower case. Fill in the regular expression to do that. How many of the concepts that you just learned can you use here?"
   ]
  },
  {
   "cell_type": "code",
   "execution_count": 14,
   "metadata": {},
   "outputs": [],
   "source": [
    "def check_time(text):\n",
    "    pattern = r\"^[1-9][0-2]?:[0-5][0-9] ?[am|AM|pm|PM]\"\n",
    "    result = re.search (pattern, text)\n",
    "    return result != None"
   ]
  },
  {
   "cell_type": "code",
   "execution_count": 15,
   "metadata": {},
   "outputs": [
    {
     "name": "stdout",
     "output_type": "stream",
     "text": [
      "True\n",
      "True\n",
      "False\n",
      "False\n"
     ]
    }
   ],
   "source": [
    "print(check_time(\"12:45pm\"))\n",
    "print(check_time(\"9:59 AM\")) \n",
    "print(check_time(\"6:60am\")) \n",
    "print(check_time(\"five o'clock\")) "
   ]
  },
  {
   "cell_type": "markdown",
   "metadata": {},
   "source": [
    "#### Q8 The contains_acronym function checks the text for the presence of 2 or more characters or digits surrounded by parentheses, with at least the first character in uppercase (if it's a letter), returning True if the condition is met, or False otherwise. For example, \"Instant messaging (IM) is a set of communication technologies used for text-based communication\" should return True since (IM) satisfies the match conditions.\" Fill in the regular expression in this function:"
   ]
  },
  {
   "cell_type": "code",
   "execution_count": 16,
   "metadata": {},
   "outputs": [],
   "source": [
    "def contains_acronym(text):\n",
    "    pattern = r\"\\([A-Z0-9][a-zA-Z0-9]*\\)\"\n",
    "    result = re.search(pattern, text)\n",
    "    return result != None"
   ]
  },
  {
   "cell_type": "code",
   "execution_count": 17,
   "metadata": {},
   "outputs": [
    {
     "name": "stdout",
     "output_type": "stream",
     "text": [
      "True\n",
      "True\n",
      "False\n",
      "True\n",
      "True\n"
     ]
    }
   ],
   "source": [
    "print(contains_acronym(\"Instant messaging (IM) is a set of communication technologies used for text-based communication\")) \n",
    "print(contains_acronym(\"American Standard Code for Information Interchange (ASCII) is a character encoding standard for electronic communication\")) \n",
    "print(contains_acronym(\"Please do NOT enter without permission!\")) \n",
    "print(contains_acronym(\"PostScript is a fourth-generation programming language (4GL)\")) \n",
    "print(contains_acronym(\"Have fun using a self-contained underwater breathing apparatus (Scuba)!\")) "
   ]
  },
  {
   "cell_type": "markdown",
   "metadata": {},
   "source": [
    "#### Q9 Fill in the code to check if the text passed includes a possible U.S. zip code, formatted as follows: exactly 5 digits, and sometimes, but not always, followed by a dash with 4 more digits. The zip code needs to be preceded by at least one space, and cannot be at the start of the text."
   ]
  },
  {
   "cell_type": "code",
   "execution_count": 18,
   "metadata": {},
   "outputs": [],
   "source": [
    "def check_zip_code(text):\n",
    "    result = re.search(r\"\\s\\d{5}|\\s\\d{5}-\\d{4}\", text)\n",
    "    return result != None"
   ]
  },
  {
   "cell_type": "code",
   "execution_count": 19,
   "metadata": {},
   "outputs": [
    {
     "name": "stdout",
     "output_type": "stream",
     "text": [
      "True\n",
      "False\n",
      "True\n",
      "False\n"
     ]
    }
   ],
   "source": [
    "print(check_zip_code(\"The zip codes for New York are 10001 thru 11104.\")) \n",
    "print(check_zip_code(\"90210 is a TV show\")) \n",
    "print(check_zip_code(\"Their address is: 123 Main Street, Anytown, AZ 85258-0001.\")) \n",
    "print(check_zip_code(\"The Parliament of Canada is at 111 Wellington St, Ottawa, ON K1A0A9.\"))"
   ]
  }
 ],
 "metadata": {
  "kernelspec": {
   "display_name": "Python 3",
   "language": "python",
   "name": "python3"
  },
  "language_info": {
   "codemirror_mode": {
    "name": "ipython",
    "version": 3
   },
   "file_extension": ".py",
   "mimetype": "text/x-python",
   "name": "python",
   "nbconvert_exporter": "python",
   "pygments_lexer": "ipython3",
   "version": "3.7.4"
  }
 },
 "nbformat": 4,
 "nbformat_minor": 2
}
